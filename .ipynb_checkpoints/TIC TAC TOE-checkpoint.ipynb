{
 "cells": [
  {
   "cell_type": "code",
   "execution_count": 1,
   "id": "42cacac1",
   "metadata": {},
   "outputs": [],
   "source": [
    "lst=['   ','   ','   ','   ','   ','   ','   ','   ','   ','   ']"
   ]
  },
  {
   "cell_type": "code",
   "execution_count": 2,
   "id": "d1f957b2",
   "metadata": {},
   "outputs": [],
   "source": [
    "from IPython.display import clear_output"
   ]
  },
  {
   "cell_type": "code",
   "execution_count": 3,
   "id": "b02cd1f8",
   "metadata": {},
   "outputs": [],
   "source": [
    "def display_board(lst):\n",
    "    \n",
    "    clear_output()\n",
    "    \n",
    "    print('   ' + '  |  ' + '   ' + '  |  ')\n",
    "    print(lst[7]+'  |  '+lst[8]+'  |  '+lst[9])\n",
    "    print('   ' + '  |  ' + '   ' + '  |  ')\n",
    "    print('-------------------')\n",
    "    print('   ' + '  |  ' + '   ' + '  |  ')\n",
    "    print(lst[4]+'  |  '+lst[5]+'  |  '+lst[6])\n",
    "    print('   ' + '  |  ' + '   ' + '  |  ')\n",
    "    print('-------------------')\n",
    "    print('   '+'  |  ' + '   ' + '  |  ')\n",
    "    print(lst[1]+'  |  '+lst[2]+'  |  '+lst[3])\n",
    "    print('   '+'  |  ' + '   ' + '  |  ')\n",
    "    "
   ]
  },
  {
   "cell_type": "code",
   "execution_count": 4,
   "id": "f5380987",
   "metadata": {},
   "outputs": [],
   "source": [
    "def player_input():\n",
    "    marker = ''\n",
    "    \n",
    "    while marker.upper() != 'X' and marker.upper() != 'O':\n",
    "        \n",
    "        marker = input(\"Choose a marker: X or O = \")\n",
    "        \n",
    "    if marker.upper()=='X':\n",
    "        return (' X ', ' O ')\n",
    "    else:\n",
    "        return (' O ', ' X ')"
   ]
  },
  {
   "cell_type": "code",
   "execution_count": 5,
   "id": "42eb5e5b",
   "metadata": {},
   "outputs": [],
   "source": [
    "def place_marker(board_lst,marker,position):\n",
    "    board_lst[position]=marker\n",
    "    "
   ]
  },
  {
   "cell_type": "code",
   "execution_count": 6,
   "id": "6c98b129",
   "metadata": {},
   "outputs": [],
   "source": [
    "def win_check(board,marker):\n",
    "    if board[1]==board[2]==board[3]==marker:\n",
    "        return True\n",
    "    elif board[4]==board[5]==board[6]==marker:\n",
    "        return True\n",
    "    elif board[7]==board[8]==board[9]==marker:\n",
    "        return True\n",
    "    elif board[1]==board[4]==board[7]==marker:\n",
    "        return True\n",
    "    elif board[2]==board[5]==board[8]==marker:\n",
    "        return True\n",
    "    elif board[3]==board[6]==board[9]==marker:\n",
    "        return True\n",
    "    elif board[1]==board[5]==board[9]==marker:\n",
    "        return True\n",
    "    elif board[3]==board[5]==board[7]==marker:\n",
    "        return True\n",
    "    else:\n",
    "        return False"
   ]
  },
  {
   "cell_type": "code",
   "execution_count": 7,
   "id": "e7eae00b",
   "metadata": {},
   "outputs": [],
   "source": [
    "import random\n",
    "\n",
    "def choose_first():\n",
    "    random.randint(1,2)\n",
    "    \n",
    "    if random.randint(1,2)==1:\n",
    "        return 'Player1'\n",
    "    else:\n",
    "        return 'Player2'"
   ]
  },
  {
   "cell_type": "code",
   "execution_count": 8,
   "id": "bc2790c8",
   "metadata": {},
   "outputs": [],
   "source": [
    "def space_check(board,position):\n",
    "    return board[position]=='   '"
   ]
  },
  {
   "cell_type": "code",
   "execution_count": 9,
   "id": "a88c053b",
   "metadata": {},
   "outputs": [],
   "source": [
    "def full_board_check(board):\n",
    "    lst_marker=[]\n",
    "    for i in range(1,10):\n",
    "        if board[i]!='   ':\n",
    "            lst_marker.append(board[i])\n",
    "            \n",
    "    return len(lst_marker)==9"
   ]
  },
  {
   "cell_type": "code",
   "execution_count": 10,
   "id": "ccaab83e",
   "metadata": {},
   "outputs": [],
   "source": [
    "def player_choice(board):\n",
    "    position=int(input('ENTER A NUMBER FROM 1 TO 9: '))\n",
    "    \n",
    "    if space_check(board,position)==True:\n",
    "        return position\n",
    "    else:\n",
    "        pass"
   ]
  },
  {
   "cell_type": "code",
   "execution_count": 11,
   "id": "56f09b10",
   "metadata": {},
   "outputs": [],
   "source": [
    "def replay():\n",
    "    X = input('Do you want to play again(Y or N): ')\n",
    "    \n",
    "    if X.lower() =='y':\n",
    "        return True\n",
    "    elif X.lower()=='n':\n",
    "        return False"
   ]
  },
  {
   "cell_type": "code",
   "execution_count": 12,
   "id": "0311079e",
   "metadata": {},
   "outputs": [
    {
     "name": "stdout",
     "output_type": "stream",
     "text": [
      "     |       |  \n",
      " X   |       |     \n",
      "     |       |  \n",
      "-------------------\n",
      "     |       |  \n",
      " X   |   O   |   O \n",
      "     |       |  \n",
      "-------------------\n",
      "     |       |  \n",
      " X   |   O   |   X \n",
      "     |       |  \n",
      "Congratulations! Player1 won the game.\n",
      "Do you want to play again(Y or N): N\n"
     ]
    }
   ],
   "source": [
    "print('WELCOME TO TIC TAC TOE GAME!')\n",
    "\n",
    "while True:\n",
    "    \n",
    "    board_lst = ['   ','   ','   ','   ','   ','   ','   ','   ','   ','   ']\n",
    "    player1_marker,player2_marker = player_input()\n",
    "    Turn = choose_first()\n",
    "    print(Turn + 'will go first!')\n",
    "    \n",
    "    play_game = input('Are you ready to play? YES or NO: ')\n",
    "    \n",
    "    if play_game[0].lower() == 'y':\n",
    "        game_on = True\n",
    "    elif play_game[0].lower() == 'n':\n",
    "        game_on = False\n",
    "        break\n",
    "    else:\n",
    "        pass\n",
    "    \n",
    "    while game_on:\n",
    "        \n",
    "        if Turn == 'Player1':\n",
    "            \n",
    "            display_board(board_lst)\n",
    "            position = player_choice(board_lst)\n",
    "            place_marker(board_lst,player1_marker,position)\n",
    "            \n",
    "            \n",
    "            if win_check(board_lst,player1_marker) == True:\n",
    "                display_board(board_lst)\n",
    "                print('Congratulations! Player1 won the game.')\n",
    "                game_on = False\n",
    "            \n",
    "            elif win_check(board_lst,player2_marker) == True:\n",
    "                display_board(board_lst)\n",
    "                print('Congratulations! Player2 won the game.')\n",
    "                game_on = False\n",
    "            \n",
    "            elif full_board_check(board_lst) == True:\n",
    "                display_board(board_lst)\n",
    "                print('The game is a draw!')\n",
    "                game_on = False\n",
    "                \n",
    "            else:\n",
    "                display_board(board_lst)\n",
    "                position = player_choice(board_lst)\n",
    "                place_marker(board_lst,player2_marker,position)\n",
    "                \n",
    "        \n",
    "        elif Turn == 'Player2':\n",
    "            \n",
    "            display_board(board_lst)\n",
    "            position = player_choice(board_lst)\n",
    "            place_marker(board_lst,player2_marker,position)\n",
    "            \n",
    "            \n",
    "            if win_check(board_lst,player2_marker) == True:\n",
    "                display_board(board_lst)\n",
    "                print('Congratulations! Player2 won the game.')\n",
    "                game_on = False\n",
    "            \n",
    "            elif win_check(board_lst,player1_marker) == True:\n",
    "                display_board(board_lst)\n",
    "                print('Congratulations! Player1 won the game.')\n",
    "                game_on = False\n",
    "            \n",
    "            elif full_board_check(board_lst) == True:\n",
    "                display_board(board_lst)\n",
    "                print('The game is a draw!')\n",
    "                game_on = False\n",
    "                \n",
    "            else:\n",
    "                display_board(board_lst)\n",
    "                position = player_choice(board_lst)\n",
    "                place_marker(board_lst,player1_marker,position)\n",
    "            \n",
    "    if replay() == False:\n",
    "        break\n",
    "        \n",
    "    \n",
    "    "
   ]
  },
  {
   "cell_type": "code",
   "execution_count": null,
   "id": "714f87d4",
   "metadata": {},
   "outputs": [],
   "source": []
  }
 ],
 "metadata": {
  "kernelspec": {
   "display_name": "Python 3 (ipykernel)",
   "language": "python",
   "name": "python3"
  },
  "language_info": {
   "codemirror_mode": {
    "name": "ipython",
    "version": 3
   },
   "file_extension": ".py",
   "mimetype": "text/x-python",
   "name": "python",
   "nbconvert_exporter": "python",
   "pygments_lexer": "ipython3",
   "version": "3.9.7"
  }
 },
 "nbformat": 4,
 "nbformat_minor": 5
}
